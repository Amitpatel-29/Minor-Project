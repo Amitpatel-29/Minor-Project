{
  "nbformat": 4,
  "nbformat_minor": 0,
  "metadata": {
    "colab": {
      "provenance": []
    },
    "kernelspec": {
      "name": "python3",
      "display_name": "Python 3"
    },
    "language_info": {
      "name": "python"
    }
  },
  "cells": [
    {
      "cell_type": "code",
      "execution_count": null,
      "metadata": {
        "colab": {
          "base_uri": "https://localhost:8080/"
        },
        "id": "E20iaEm6CnNe",
        "outputId": "b5e15c0d-3709-4ad1-c9b8-0a939ab54dcd"
      },
      "outputs": [
        {
          "output_type": "stream",
          "name": "stdout",
          "text": [
            "Enter a movie title for recommendations: batman\n",
            "\n",
            "Did you mean one of these movies?\n",
            "1. batman\n",
            "2. batman\n",
            "3. ant-man\n",
            "4. catwoman\n",
            "5. taxman\n",
            "\n",
            "Enter the number of the correct movie (1, 2, 3, etc.): 3\n",
            "\n",
            "Based on the movie 'ant-man', here are some recommended movies for you:\n",
            "\n",
            "1. X-Men: Apocalypse\n",
            "2. X-Men\n",
            "3. The Avengers\n",
            "4. X-Men: Days of Future Past\n",
            "5. Man of Steel\n",
            "6. Iron Man 2\n",
            "7. Kick-Ass\n",
            "8. The Incredible Hulk\n",
            "9. Deadpool\n",
            "10. X-Men: The Last Stand\n"
          ]
        }
      ],
      "source": [
        "import difflib\n",
        "import pandas as pd\n",
        "from sklearn.feature_extraction.text import TfidfVectorizer\n",
        "from sklearn.metrics.pairwise import cosine_similarity\n",
        "\n",
        "# Read the dataset\n",
        "df = pd.read_csv('movies.csv')\n",
        "\n",
        "# Fill missing values with empty strings\n",
        "for feature in ['overview', 'keywords', 'genres', 'cast', 'director']:\n",
        "    df[feature] = df[feature].fillna('')\n",
        "\n",
        "# Combine relevant features into a single string\n",
        "df['combined_features'] = df['overview'] + ' ' + df['keywords'] + ' ' + df['genres'] + ' ' + df['cast'] + ' ' + df['director']\n",
        "\n",
        "# Convert text data to feature vectors using TF-IDF\n",
        "tfidf = TfidfVectorizer(stop_words='english')\n",
        "tfidf_matrix = tfidf.fit_transform(df['combined_features'])\n",
        "\n",
        "# Calculate the cosine similarity matrix\n",
        "cosine_sim = cosine_similarity(tfidf_matrix, tfidf_matrix)\n",
        "\n",
        "# Function to get recommendations based on movie title (with partial matching)\n",
        "def get_recommendations(title, cosine_sim=cosine_sim):\n",
        "    # Clean the input title\n",
        "    title = title.strip().lower()\n",
        "\n",
        "    # Find close matches for the movie title in the dataset\n",
        "    close_matches = difflib.get_close_matches(title, df['title'].str.lower(), n=5, cutoff=0.4)\n",
        "\n",
        "    if not close_matches:\n",
        "        print(f\"Sorry, no movies found matching '{title}'.\")\n",
        "        return\n",
        "\n",
        "    # If there are multiple close matches, prompt the user to select the correct one\n",
        "    print(f\"\\nDid you mean one of these movies?\")\n",
        "    for i, match in enumerate(close_matches, 1):\n",
        "        print(f\"{i}. {match}\")\n",
        "\n",
        "    try:\n",
        "        choice = int(input(\"\\nEnter the number of the correct movie (1, 2, 3, etc.): \"))\n",
        "        selected_title = close_matches[choice - 1]\n",
        "    except (ValueError, IndexError):\n",
        "        print(\"Invalid selection.\")\n",
        "        return\n",
        "\n",
        "    # Get the index of the selected movie\n",
        "    idx = df[df['title'].str.lower() == selected_title].index[0]\n",
        "\n",
        "    # Get similarity scores for all movies\n",
        "    sim_scores = list(enumerate(cosine_sim[idx]))\n",
        "\n",
        "    # Sort movies based on similarity scores\n",
        "    sim_scores = sorted(sim_scores, key=lambda x: x[1], reverse=True)\n",
        "\n",
        "    # Get the indices of the top 10 similar movies (excluding the input movie)\n",
        "    movie_indices = [i[0] for i in sim_scores[1:11]]\n",
        "\n",
        "    # Print recommendations based on the selected movie\n",
        "    print(f\"\\nBased on the movie '{selected_title}', here are some recommended movies for you:\\n\")\n",
        "    recommendations = df['title'].iloc[movie_indices]\n",
        "\n",
        "    for i, movie in enumerate(recommendations, 1):\n",
        "        print(f\"{i}. {movie}\")\n",
        "\n",
        "# Ask the user to input a movie title\n",
        "user_movie = input(\"Enter a movie title for recommendations: \")\n",
        "\n",
        "# Get recommendations based on the user's input\n",
        "get_recommendations(user_movie)\n"
      ]
    }
  ]
}